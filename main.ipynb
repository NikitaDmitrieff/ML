{
 "cells": [
  {
   "cell_type": "markdown",
   "id": "6db299ff",
   "metadata": {},
   "source": [
    "## CW Intro to ML\n",
    "\n",
    "This project was carried out in a school context by four classmates. \n",
    "\n",
    "- Pierre-Antoine ARSAGUET (pea22)\n",
    "- Louis BERTHIER (ldb22)\n",
    "- Nikita DMITRIEFF (nnd19)\n",
    "- Ryan EL KHOURY (re122)\n",
    "The subject consists in implementing a Decision Trees algorithm to indicate and classify the position of a user in one of the four rooms according to the power of his wifi."
   ]
  },
  {
   "cell_type": "code",
   "execution_count": 110,
   "id": "e9ddfb3a",
   "metadata": {},
   "outputs": [],
   "source": [
    "#import necessary librairies\n",
    "\n",
    "import numpy as np\n",
    "from numpy.random import default_rng\n",
    "import matplotlib.pyplot as plt\n",
    "import pandas as pd\n",
    "plt.rcParams['figure.figsize'] = [12, 6]"
   ]
  },
  {
   "cell_type": "code",
   "execution_count": 111,
   "id": "37c2a7bc",
   "metadata": {},
   "outputs": [
    {
     "data": {
      "text/plain": [
       "array([[-64., -56., -61., ..., -82., -81.,   1.],\n",
       "       [-68., -57., -61., ..., -85., -85.,   1.],\n",
       "       [-63., -60., -60., ..., -85., -84.,   1.],\n",
       "       ...,\n",
       "       [-62., -59., -46., ..., -87., -88.,   4.],\n",
       "       [-62., -58., -52., ..., -90., -85.,   4.],\n",
       "       [-59., -50., -45., ..., -88., -87.,   4.]])"
      ]
     },
     "execution_count": 111,
     "metadata": {},
     "output_type": "execute_result"
    }
   ],
   "source": [
    "clean_dataset = np.loadtxt('wifi_db/clean_dataset.txt')\n",
    "clean_dataset"
   ]
  },
  {
   "cell_type": "code",
   "execution_count": 112,
   "id": "f37e76d9",
   "metadata": {},
   "outputs": [],
   "source": [
    " clean_df = pd.DataFrame({'Emitter 1': clean_dataset[:, 0], 'Emitter 2': clean_dataset[:, 1], 'Emitter 3': clean_dataset[:, 2], 'Emitter 4': clean_dataset[:, 3], 'Emitter 5': clean_dataset[:, 4], 'Emitter 6': clean_dataset[:, 5], 'Emitter 7': clean_dataset[:, 6], 'Room Number': clean_dataset[:, 7]})"
   ]
  },
  {
   "cell_type": "code",
   "execution_count": 113,
   "id": "3ee30316",
   "metadata": {},
   "outputs": [
    {
     "data": {
      "text/html": [
       "<div>\n",
       "<style scoped>\n",
       "    .dataframe tbody tr th:only-of-type {\n",
       "        vertical-align: middle;\n",
       "    }\n",
       "\n",
       "    .dataframe tbody tr th {\n",
       "        vertical-align: top;\n",
       "    }\n",
       "\n",
       "    .dataframe thead th {\n",
       "        text-align: right;\n",
       "    }\n",
       "</style>\n",
       "<table border=\"1\" class=\"dataframe\">\n",
       "  <thead>\n",
       "    <tr style=\"text-align: right;\">\n",
       "      <th></th>\n",
       "      <th>Emitter 1</th>\n",
       "      <th>Emitter 2</th>\n",
       "      <th>Emitter 3</th>\n",
       "      <th>Emitter 4</th>\n",
       "      <th>Emitter 5</th>\n",
       "      <th>Emitter 6</th>\n",
       "      <th>Emitter 7</th>\n",
       "      <th>Room Number</th>\n",
       "    </tr>\n",
       "  </thead>\n",
       "  <tbody>\n",
       "    <tr>\n",
       "      <th>0</th>\n",
       "      <td>-64.0</td>\n",
       "      <td>-56.0</td>\n",
       "      <td>-61.0</td>\n",
       "      <td>-66.0</td>\n",
       "      <td>-71.0</td>\n",
       "      <td>-82.0</td>\n",
       "      <td>-81.0</td>\n",
       "      <td>1.0</td>\n",
       "    </tr>\n",
       "    <tr>\n",
       "      <th>1</th>\n",
       "      <td>-68.0</td>\n",
       "      <td>-57.0</td>\n",
       "      <td>-61.0</td>\n",
       "      <td>-65.0</td>\n",
       "      <td>-71.0</td>\n",
       "      <td>-85.0</td>\n",
       "      <td>-85.0</td>\n",
       "      <td>1.0</td>\n",
       "    </tr>\n",
       "    <tr>\n",
       "      <th>2</th>\n",
       "      <td>-63.0</td>\n",
       "      <td>-60.0</td>\n",
       "      <td>-60.0</td>\n",
       "      <td>-67.0</td>\n",
       "      <td>-76.0</td>\n",
       "      <td>-85.0</td>\n",
       "      <td>-84.0</td>\n",
       "      <td>1.0</td>\n",
       "    </tr>\n",
       "    <tr>\n",
       "      <th>3</th>\n",
       "      <td>-61.0</td>\n",
       "      <td>-60.0</td>\n",
       "      <td>-68.0</td>\n",
       "      <td>-62.0</td>\n",
       "      <td>-77.0</td>\n",
       "      <td>-90.0</td>\n",
       "      <td>-80.0</td>\n",
       "      <td>1.0</td>\n",
       "    </tr>\n",
       "    <tr>\n",
       "      <th>4</th>\n",
       "      <td>-63.0</td>\n",
       "      <td>-65.0</td>\n",
       "      <td>-60.0</td>\n",
       "      <td>-63.0</td>\n",
       "      <td>-77.0</td>\n",
       "      <td>-81.0</td>\n",
       "      <td>-87.0</td>\n",
       "      <td>1.0</td>\n",
       "    </tr>\n",
       "  </tbody>\n",
       "</table>\n",
       "</div>"
      ],
      "text/plain": [
       "   Emitter 1  Emitter 2  Emitter 3  Emitter 4  Emitter 5  Emitter 6  \\\n",
       "0      -64.0      -56.0      -61.0      -66.0      -71.0      -82.0   \n",
       "1      -68.0      -57.0      -61.0      -65.0      -71.0      -85.0   \n",
       "2      -63.0      -60.0      -60.0      -67.0      -76.0      -85.0   \n",
       "3      -61.0      -60.0      -68.0      -62.0      -77.0      -90.0   \n",
       "4      -63.0      -65.0      -60.0      -63.0      -77.0      -81.0   \n",
       "\n",
       "   Emitter 7  Room Number  \n",
       "0      -81.0          1.0  \n",
       "1      -85.0          1.0  \n",
       "2      -84.0          1.0  \n",
       "3      -80.0          1.0  \n",
       "4      -87.0          1.0  "
      ]
     },
     "execution_count": 113,
     "metadata": {},
     "output_type": "execute_result"
    }
   ],
   "source": [
    "clean_df.head()"
   ]
  },
  {
   "cell_type": "code",
   "execution_count": 114,
   "id": "44ac2a17",
   "metadata": {},
   "outputs": [
    {
     "name": "stdout",
     "output_type": "stream",
     "text": [
      "<class 'pandas.core.frame.DataFrame'>\n",
      "RangeIndex: 2000 entries, 0 to 1999\n",
      "Data columns (total 8 columns):\n",
      " #   Column       Non-Null Count  Dtype  \n",
      "---  ------       --------------  -----  \n",
      " 0   Emitter 1    2000 non-null   float64\n",
      " 1   Emitter 2    2000 non-null   float64\n",
      " 2   Emitter 3    2000 non-null   float64\n",
      " 3   Emitter 4    2000 non-null   float64\n",
      " 4   Emitter 5    2000 non-null   float64\n",
      " 5   Emitter 6    2000 non-null   float64\n",
      " 6   Emitter 7    2000 non-null   float64\n",
      " 7   Room Number  2000 non-null   float64\n",
      "dtypes: float64(8)\n",
      "memory usage: 125.1 KB\n"
     ]
    }
   ],
   "source": [
    "clean_df.info()"
   ]
  },
  {
   "cell_type": "code",
   "execution_count": 115,
   "id": "3ab912dd",
   "metadata": {},
   "outputs": [
    {
     "data": {
      "text/plain": [
       "Emitter 1      float64\n",
       "Emitter 2      float64\n",
       "Emitter 3      float64\n",
       "Emitter 4      float64\n",
       "Emitter 5      float64\n",
       "Emitter 6      float64\n",
       "Emitter 7      float64\n",
       "Room Number     object\n",
       "dtype: object"
      ]
     },
     "execution_count": 115,
     "metadata": {},
     "output_type": "execute_result"
    }
   ],
   "source": [
    "clean_df['Room Number'] = clean_df['Room Number'] .astype(str)\n",
    "clean_df.dtypes"
   ]
  },
  {
   "cell_type": "code",
   "execution_count": 116,
   "id": "14a9fcc2",
   "metadata": {},
   "outputs": [
    {
     "data": {
      "text/html": [
       "<div>\n",
       "<style scoped>\n",
       "    .dataframe tbody tr th:only-of-type {\n",
       "        vertical-align: middle;\n",
       "    }\n",
       "\n",
       "    .dataframe tbody tr th {\n",
       "        vertical-align: top;\n",
       "    }\n",
       "\n",
       "    .dataframe thead th {\n",
       "        text-align: right;\n",
       "    }\n",
       "</style>\n",
       "<table border=\"1\" class=\"dataframe\">\n",
       "  <thead>\n",
       "    <tr style=\"text-align: right;\">\n",
       "      <th></th>\n",
       "      <th>Emitter 1</th>\n",
       "      <th>Emitter 2</th>\n",
       "      <th>Emitter 3</th>\n",
       "      <th>Emitter 4</th>\n",
       "      <th>Emitter 5</th>\n",
       "      <th>Emitter 6</th>\n",
       "      <th>Emitter 7</th>\n",
       "    </tr>\n",
       "  </thead>\n",
       "  <tbody>\n",
       "    <tr>\n",
       "      <th>count</th>\n",
       "      <td>2000.000000</td>\n",
       "      <td>2000.000000</td>\n",
       "      <td>2000.000000</td>\n",
       "      <td>2000.000000</td>\n",
       "      <td>2000.000000</td>\n",
       "      <td>2000.000000</td>\n",
       "      <td>2000.000000</td>\n",
       "    </tr>\n",
       "    <tr>\n",
       "      <th>mean</th>\n",
       "      <td>-52.330500</td>\n",
       "      <td>-55.623500</td>\n",
       "      <td>-54.964000</td>\n",
       "      <td>-53.566500</td>\n",
       "      <td>-62.640500</td>\n",
       "      <td>-80.985000</td>\n",
       "      <td>-81.726500</td>\n",
       "    </tr>\n",
       "    <tr>\n",
       "      <th>std</th>\n",
       "      <td>11.321677</td>\n",
       "      <td>3.417688</td>\n",
       "      <td>5.316186</td>\n",
       "      <td>11.471982</td>\n",
       "      <td>9.105093</td>\n",
       "      <td>6.516672</td>\n",
       "      <td>6.519812</td>\n",
       "    </tr>\n",
       "    <tr>\n",
       "      <th>min</th>\n",
       "      <td>-74.000000</td>\n",
       "      <td>-74.000000</td>\n",
       "      <td>-73.000000</td>\n",
       "      <td>-77.000000</td>\n",
       "      <td>-89.000000</td>\n",
       "      <td>-97.000000</td>\n",
       "      <td>-98.000000</td>\n",
       "    </tr>\n",
       "    <tr>\n",
       "      <th>25%</th>\n",
       "      <td>-61.000000</td>\n",
       "      <td>-58.000000</td>\n",
       "      <td>-58.000000</td>\n",
       "      <td>-63.000000</td>\n",
       "      <td>-69.000000</td>\n",
       "      <td>-86.000000</td>\n",
       "      <td>-87.000000</td>\n",
       "    </tr>\n",
       "    <tr>\n",
       "      <th>50%</th>\n",
       "      <td>-55.000000</td>\n",
       "      <td>-56.000000</td>\n",
       "      <td>-55.000000</td>\n",
       "      <td>-56.000000</td>\n",
       "      <td>-64.000000</td>\n",
       "      <td>-82.000000</td>\n",
       "      <td>-83.000000</td>\n",
       "    </tr>\n",
       "    <tr>\n",
       "      <th>75%</th>\n",
       "      <td>-46.000000</td>\n",
       "      <td>-53.000000</td>\n",
       "      <td>-51.000000</td>\n",
       "      <td>-46.000000</td>\n",
       "      <td>-56.000000</td>\n",
       "      <td>-77.000000</td>\n",
       "      <td>-78.000000</td>\n",
       "    </tr>\n",
       "    <tr>\n",
       "      <th>max</th>\n",
       "      <td>-10.000000</td>\n",
       "      <td>-45.000000</td>\n",
       "      <td>-40.000000</td>\n",
       "      <td>-11.000000</td>\n",
       "      <td>-36.000000</td>\n",
       "      <td>-61.000000</td>\n",
       "      <td>-63.000000</td>\n",
       "    </tr>\n",
       "  </tbody>\n",
       "</table>\n",
       "</div>"
      ],
      "text/plain": [
       "         Emitter 1    Emitter 2    Emitter 3    Emitter 4    Emitter 5  \\\n",
       "count  2000.000000  2000.000000  2000.000000  2000.000000  2000.000000   \n",
       "mean    -52.330500   -55.623500   -54.964000   -53.566500   -62.640500   \n",
       "std      11.321677     3.417688     5.316186    11.471982     9.105093   \n",
       "min     -74.000000   -74.000000   -73.000000   -77.000000   -89.000000   \n",
       "25%     -61.000000   -58.000000   -58.000000   -63.000000   -69.000000   \n",
       "50%     -55.000000   -56.000000   -55.000000   -56.000000   -64.000000   \n",
       "75%     -46.000000   -53.000000   -51.000000   -46.000000   -56.000000   \n",
       "max     -10.000000   -45.000000   -40.000000   -11.000000   -36.000000   \n",
       "\n",
       "         Emitter 6    Emitter 7  \n",
       "count  2000.000000  2000.000000  \n",
       "mean    -80.985000   -81.726500  \n",
       "std       6.516672     6.519812  \n",
       "min     -97.000000   -98.000000  \n",
       "25%     -86.000000   -87.000000  \n",
       "50%     -82.000000   -83.000000  \n",
       "75%     -77.000000   -78.000000  \n",
       "max     -61.000000   -63.000000  "
      ]
     },
     "execution_count": 116,
     "metadata": {},
     "output_type": "execute_result"
    }
   ],
   "source": [
    "clean_df.describe()"
   ]
  },
  {
   "cell_type": "code",
   "execution_count": null,
   "id": "3d54164a",
   "metadata": {},
   "outputs": [],
   "source": [
    "plot = clean_df.hist(layout=(2,4), figsize=(24,12))\n",
    "for ax in plot.flatten():\n",
    "    ax.set_xlabel(\"Wifi Power\")\n",
    "    ax.set_ylabel(\"Number of observations\")\n",
    "plt.show()"
   ]
  },
  {
   "cell_type": "code",
   "execution_count": null,
   "id": "a44e8f32",
   "metadata": {},
   "outputs": [],
   "source": [
    " clean_df.plot(\n",
    "    title = 'Wifi power of each observation for each emitter',\n",
    "    grid = True,\n",
    "    xlabel = 'Observations',\n",
    "    ylabel = 'Wifi Power',\n",
    ")\n",
    "plt.legend(loc='best')"
   ]
  },
  {
   "cell_type": "code",
   "execution_count": null,
   "id": "355f0a31",
   "metadata": {},
   "outputs": [],
   "source": [
    "clean_df['Room Number'].value_counts()"
   ]
  },
  {
   "cell_type": "code",
   "execution_count": 29,
   "id": "10972786",
   "metadata": {},
   "outputs": [
    {
     "name": "stdout",
     "output_type": "stream",
     "text": [
      "(2000, 8)\n"
     ]
    }
   ],
   "source": [
    "# dataset read \n",
    "\n",
    "dataset = np.loadtxt('wifi_db/clean_dataset.txt')\n",
    "\n",
    "print(dataset.shape)"
   ]
  },
  {
   "cell_type": "code",
   "execution_count": 30,
   "id": "c3e61c38",
   "metadata": {},
   "outputs": [
    {
     "data": {
      "text/plain": [
       "(2000, 7)"
      ]
     },
     "execution_count": 30,
     "metadata": {},
     "output_type": "execute_result"
    }
   ],
   "source": [
    "dataset[:,:-1].shape\n"
   ]
  },
  {
   "cell_type": "code",
   "execution_count": 6,
   "id": "94b6998e",
   "metadata": {},
   "outputs": [
    {
     "name": "stdout",
     "output_type": "stream",
     "text": [
      "(1600, 7) (1600, 1)\n",
      "(400, 7) (400, 1)\n"
     ]
    }
   ],
   "source": [
    "def read_dataset(filepath):\n",
    "    \"\"\" Read in the dataset from the specified filepath\n",
    "\n",
    "    Args:\n",
    "        filepath (str): The filepath to the dataset file\n",
    "\n",
    "    Returns:\n",
    "        tuple: returns a tuple of (x, y, classes), each being a numpy array. \n",
    "               - x is a numpy array with shape (N, K), \n",
    "                   where N is the number of instances\n",
    "                   K is the number of features/attributes\n",
    "               - y is a numpy array with shape (N, ), and should be integers from 0 to C-1\n",
    "                   where C is the number of classes \n",
    "               - classes : a numpy array with shape (C, ), which contains the \n",
    "                   unique class labels corresponding to the integers in y\n",
    "    \"\"\"\n",
    "\n",
    "    x = []\n",
    "    y_labels = []\n",
    "    dataset = np.loadtxt(filepath)\n",
    "    \n",
    "    x = dataset[:,:-1]\n",
    "    y = dataset[:,-1:]\n",
    "    \n",
    "    classes = np.unique(y)\n",
    "\n",
    "\n",
    "    return (x, y, classes)\n",
    "\n",
    "\n",
    "def split_dataset(x, y, test_proportion, random_generator=default_rng()):\n",
    "    \"\"\" Split dataset into training and test sets, according to the given \n",
    "        test set proportion.\n",
    "    \n",
    "    Args:\n",
    "        x (np.ndarray): Instances, numpy array with shape (N,K)\n",
    "        y (np.ndarray): Class labels, numpy array with shape (N,)\n",
    "        test_proprotion (float): the desired proportion of test examples \n",
    "                                 (0.0-1.0)\n",
    "        random_generator (np.random.Generator): A random generator\n",
    "\n",
    "    Returns:\n",
    "        tuple: returns a tuple of (x_train, x_test, y_train, y_test) \n",
    "               - x_train (np.ndarray): Training instances shape (N_train, K)\n",
    "               - x_test (np.ndarray): Test instances shape (N_test, K)\n",
    "               - y_train (np.ndarray): Training labels, shape (N_train, )\n",
    "               - y_test (np.ndarray): Test labels, shape (N_train, )\n",
    "    \"\"\"\n",
    "\n",
    "    shuffled_indices = random_generator.permutation(len(x))\n",
    "    n_test = round(len(x) * test_proportion)\n",
    "    n_train = len(x) - n_test\n",
    "    x_train = x[shuffled_indices[:n_train]]\n",
    "    y_train = y[shuffled_indices[:n_train]]\n",
    "    x_test = x[shuffled_indices[n_train:]]\n",
    "    y_test = y[shuffled_indices[n_train:]]\n",
    "    return (x_train, x_test, y_train, y_test)\n",
    "\n",
    "\n",
    "\n",
    "(x, y, classes) = read_dataset('wifi_db/clean_dataset.txt')\n",
    "\n",
    "seed = 60012\n",
    "rg = default_rng(seed)\n",
    "x_train, x_test, y_train, y_test = split_dataset(x, y, \n",
    "                                                 test_proportion=0.2, \n",
    "                                                 random_generator=rg)\n",
    "print(x_train.shape, y_train.shape)\n",
    "print(x_test.shape, y_test.shape)"
   ]
  },
  {
   "cell_type": "code",
   "execution_count": 7,
   "id": "10f45906",
   "metadata": {},
   "outputs": [
    {
     "data": {
      "text/plain": [
       "392"
      ]
     },
     "execution_count": 7,
     "metadata": {},
     "output_type": "execute_result"
    }
   ],
   "source": [
    "np.count_nonzero(y_train == 4)"
   ]
  },
  {
   "cell_type": "code",
   "execution_count": 41,
   "id": "63a82c0c",
   "metadata": {},
   "outputs": [],
   "source": [
    "# necessary functions to compute data in order to make the decision tree\n",
    "\n",
    "\n",
    "\n",
    "def H(y, labels): \n",
    "    \n",
    "    entropy = 0\n",
    "    \n",
    "    \n",
    "    N = x.shape[0]\n",
    "    \n",
    "    for label in labels:\n",
    "        prob = np.count_nonzero(y == label)/N\n",
    "        if prob == 0:\n",
    "            continue\n",
    "        entropy -= prob*np.log2(prob)\n",
    "    \n",
    "    return entropy\n",
    "\n",
    "H(y_train, classes)\n",
    "\n",
    "def remainder(y_left, y_right, labels):\n",
    "    N = y_left.shape[0] + y_right.shape[0]\n",
    "    \n",
    "    rem = (y_left.shape[0]/N)*H(y_left, labels) + (y_right.shape[0]/N)*H(y_right, labels)\n",
    "    \n",
    "    return rem\n",
    "\n",
    "def gain(y_all, y_left, y_right, labels):\n",
    "    return H(y_all, labels) - remainder(y_left, y_right, labels)\n",
    "            \n",
    "    \n",
    "    \n",
    "    "
   ]
  },
  {
   "cell_type": "code",
   "execution_count": 42,
   "id": "d461a748",
   "metadata": {},
   "outputs": [
    {
     "data": {
      "text/plain": [
       "0.3416331631753122"
      ]
     },
     "execution_count": 42,
     "metadata": {},
     "output_type": "execute_result"
    }
   ],
   "source": [
    "gain(y, y_train, y_test, classes)"
   ]
  },
  {
   "cell_type": "code",
   "execution_count": 89,
   "id": "245992ae",
   "metadata": {},
   "outputs": [],
   "source": [
    "def find_split(data, labels):\n",
    "    \n",
    "    n_features = len(data[0]) - 1\n",
    "    \n",
    "    best_gain = gain(data[:-1], data[data[:,0]>data[0][0]][:-1], data[data[:,0]<=data[0][0]][:-1], classes)\n",
    "    best_thresh = data[0][0]\n",
    "    best_feat = 0\n",
    "    \n",
    "    for i in range(n_features):\n",
    "        \n",
    "        best_feat_gain = gain(data[:-1], data[data[:,i]>data[i][0]][:-1], data[data[:,i]<=data[i][0]][:-1], classes)\n",
    "        best_feat_thresh = data[i][0]\n",
    "        \n",
    "        for xi in data[:,i]:\n",
    "\n",
    "            right = data[data[:,i]>xi]\n",
    "            left = data[data[:,i]<=xi]\n",
    "            \n",
    "            feat_gain = gain(data[:-1], left[:-1], right[:-1], labels)\n",
    "            \n",
    "            if feat_gain > best_feat_gain:\n",
    "                best_feat_gain = feat_gain\n",
    "                best_feat_thresh = xi\n",
    "                \n",
    "        print(best_feat_gain, best_feat_thresh)      \n",
    "        if best_feat_gain > best_gain:\n",
    "            best_feat = i\n",
    "            best_gain = best_feat_gain\n",
    "            best_thresh = best_feat_thresh\n",
    "            \n",
    "            \n",
    "    right = data[data[:,best_feat] > best_thresh]\n",
    "    left = data[data[:,best_feat] <= best_thresh]\n",
    "    \n",
    "    return best_feat, best_thresh\n",
    "\n",
    "        \n",
    "        "
   ]
  },
  {
   "cell_type": "code",
   "execution_count": 87,
   "id": "38673d99",
   "metadata": {},
   "outputs": [
    {
     "name": "stdout",
     "output_type": "stream",
     "text": [
      "0.9707244042265755 -55.0\n",
      "0.5094277825857527 -56.0\n",
      "0.6518768781318678 -56.0\n",
      "0.9123691914431387 -57.0\n",
      "0.7469761444598508 -63.0\n",
      "0.6955053240632996 -81.0\n",
      "0.6908951549707205 -81.0\n"
     ]
    }
   ],
   "source": [
    "best_feat, best_thresh, right, left = find_split(dataset, classes)"
   ]
  },
  {
   "cell_type": "code",
   "execution_count": 77,
   "id": "ffa3e1da",
   "metadata": {},
   "outputs": [
    {
     "name": "stdout",
     "output_type": "stream",
     "text": [
      "1202 798\n"
     ]
    }
   ],
   "source": [
    "print(len(right), len(left))"
   ]
  },
  {
   "cell_type": "code",
   "execution_count": 90,
   "id": "7e8188e9",
   "metadata": {
    "scrolled": true
   },
   "outputs": [
    {
     "name": "stdout",
     "output_type": "stream",
     "text": [
      "0.9707244042265755 -55.0\n",
      "0.5094277825857527 -56.0\n",
      "0.6518768781318678 -56.0\n",
      "0.9123691914431387 -57.0\n",
      "0.7469761444598508 -63.0\n",
      "0.6955053240632996 -81.0\n",
      "0.6908951549707205 -81.0\n"
     ]
    },
    {
     "data": {
      "text/plain": [
       "(0,\n",
       " -55.0,\n",
       " array([[-42., -53., -62., ..., -65., -69.,   2.],\n",
       "        [-44., -55., -61., ..., -72., -68.,   2.],\n",
       "        [-41., -58., -56., ..., -69., -73.,   2.],\n",
       "        ...,\n",
       "        [-52., -61., -48., ..., -80., -80.,   4.],\n",
       "        [-54., -57., -50., ..., -83., -82.,   4.],\n",
       "        [-54., -46., -48., ..., -84., -85.,   4.]]),\n",
       " array([[-64., -56., -61., ..., -82., -81.,   1.],\n",
       "        [-68., -57., -61., ..., -85., -85.,   1.],\n",
       "        [-63., -60., -60., ..., -85., -84.,   1.],\n",
       "        ...,\n",
       "        [-62., -59., -46., ..., -87., -88.,   4.],\n",
       "        [-62., -58., -52., ..., -90., -85.,   4.],\n",
       "        [-59., -50., -45., ..., -88., -87.,   4.]]))"
      ]
     },
     "execution_count": 90,
     "metadata": {},
     "output_type": "execute_result"
    }
   ],
   "source": [
    "find_split(dataset, classes)"
   ]
  },
  {
   "cell_type": "code",
   "execution_count": 74,
   "id": "f8e4f114",
   "metadata": {},
   "outputs": [
    {
     "data": {
      "text/plain": [
       "2000"
      ]
     },
     "execution_count": 74,
     "metadata": {},
     "output_type": "execute_result"
    }
   ],
   "source": [
    "len(data[:,0])"
   ]
  },
  {
   "cell_type": "code",
   "execution_count": 91,
   "id": "8cc84757",
   "metadata": {},
   "outputs": [
    {
     "data": {
      "text/plain": [
       "2000"
      ]
     },
     "execution_count": 91,
     "metadata": {},
     "output_type": "execute_result"
    }
   ],
   "source": [
    "len(data)"
   ]
  },
  {
   "cell_type": "code",
   "execution_count": 108,
   "id": "61592cfb",
   "metadata": {},
   "outputs": [],
   "source": [
    "def make_node(split_feat, split_value):\n",
    "    node = {(split_feat,split_value): ({},{})}\n",
    "    return node\n",
    "\n",
    "def make_leaf(data, classes):\n",
    "    N = len(data)\n",
    "    result =  np.argmax([len(data[data[:,-1] == label]) for label in classes])/N\n",
    "    return result\n",
    "\n"
   ]
  },
  {
   "cell_type": "code",
   "execution_count": 109,
   "id": "0174d2e6",
   "metadata": {},
   "outputs": [
    {
     "data": {
      "text/plain": [
       "0.0"
      ]
     },
     "execution_count": 109,
     "metadata": {},
     "output_type": "execute_result"
    }
   ],
   "source": [
    "make_leaf(data, classes)"
   ]
  }
 ],
 "metadata": {
  "kernelspec": {
   "display_name": "Python 3",
   "language": "python",
   "name": "python3"
  },
  "language_info": {
   "codemirror_mode": {
    "name": "ipython",
    "version": 3
   },
   "file_extension": ".py",
   "mimetype": "text/x-python",
   "name": "python",
   "nbconvert_exporter": "python",
   "pygments_lexer": "ipython3",
   "version": "3.8.10"
  }
 },
 "nbformat": 4,
 "nbformat_minor": 5
}
