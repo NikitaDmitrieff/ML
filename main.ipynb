{
 "cells": [
  {
   "cell_type": "markdown",
   "id": "6db299ff",
   "metadata": {},
   "source": [
    "## CW Intro to ML\n"
   ]
  },
  {
   "cell_type": "code",
   "execution_count": 13,
   "id": "e9ddfb3a",
   "metadata": {},
   "outputs": [],
   "source": [
    "#import necessary librairies\n",
    "\n",
    "import numpy as np\n",
    "from numpy.random import default_rng"
   ]
  },
  {
   "cell_type": "code",
   "execution_count": 6,
   "id": "10972786",
   "metadata": {},
   "outputs": [
    {
     "name": "stdout",
     "output_type": "stream",
     "text": [
      "(2000, 8)\n"
     ]
    }
   ],
   "source": [
    "# dataset read \n",
    "\n",
    "dataset = np.loadtxt('wifi_db/clean_dataset.txt')\n",
    "\n",
    "print(dataset.shape)"
   ]
  },
  {
   "cell_type": "code",
   "execution_count": 16,
   "id": "c3e61c38",
   "metadata": {},
   "outputs": [
    {
     "data": {
      "text/plain": [
       "(2000, 7)"
      ]
     },
     "execution_count": 16,
     "metadata": {},
     "output_type": "execute_result"
    }
   ],
   "source": [
    "dataset[:,:-1].shape\n"
   ]
  },
  {
   "cell_type": "code",
   "execution_count": 18,
   "id": "94b6998e",
   "metadata": {},
   "outputs": [
    {
     "name": "stdout",
     "output_type": "stream",
     "text": [
      "(1600, 7) (1600, 1)\n",
      "(400, 7) (400, 1)\n"
     ]
    }
   ],
   "source": [
    "def read_dataset(filepath):\n",
    "    \"\"\" Read in the dataset from the specified filepath\n",
    "\n",
    "    Args:\n",
    "        filepath (str): The filepath to the dataset file\n",
    "\n",
    "    Returns:\n",
    "        tuple: returns a tuple of (x, y, classes), each being a numpy array. \n",
    "               - x is a numpy array with shape (N, K), \n",
    "                   where N is the number of instances\n",
    "                   K is the number of features/attributes\n",
    "               - y is a numpy array with shape (N, ), and should be integers from 0 to C-1\n",
    "                   where C is the number of classes \n",
    "               - classes : a numpy array with shape (C, ), which contains the \n",
    "                   unique class labels corresponding to the integers in y\n",
    "    \"\"\"\n",
    "\n",
    "    x = []\n",
    "    y_labels = []\n",
    "    dataset = np.loadtxt(filepath)\n",
    "    \n",
    "    x = dataset[:,:-1]\n",
    "    y = dataset[:,-1:]\n",
    "    \n",
    "    classes = np.unique(y)\n",
    "\n",
    "\n",
    "    return (x, y, classes)\n",
    "\n",
    "\n",
    "def split_dataset(x, y, test_proportion, random_generator=default_rng()):\n",
    "    \"\"\" Split dataset into training and test sets, according to the given \n",
    "        test set proportion.\n",
    "    \n",
    "    Args:\n",
    "        x (np.ndarray): Instances, numpy array with shape (N,K)\n",
    "        y (np.ndarray): Class labels, numpy array with shape (N,)\n",
    "        test_proprotion (float): the desired proportion of test examples \n",
    "                                 (0.0-1.0)\n",
    "        random_generator (np.random.Generator): A random generator\n",
    "\n",
    "    Returns:\n",
    "        tuple: returns a tuple of (x_train, x_test, y_train, y_test) \n",
    "               - x_train (np.ndarray): Training instances shape (N_train, K)\n",
    "               - x_test (np.ndarray): Test instances shape (N_test, K)\n",
    "               - y_train (np.ndarray): Training labels, shape (N_train, )\n",
    "               - y_test (np.ndarray): Test labels, shape (N_train, )\n",
    "    \"\"\"\n",
    "\n",
    "    shuffled_indices = random_generator.permutation(len(x))\n",
    "    n_test = round(len(x) * test_proportion)\n",
    "    n_train = len(x) - n_test\n",
    "    x_train = x[shuffled_indices[:n_train]]\n",
    "    y_train = y[shuffled_indices[:n_train]]\n",
    "    x_test = x[shuffled_indices[n_train:]]\n",
    "    y_test = y[shuffled_indices[n_train:]]\n",
    "    return (x_train, x_test, y_train, y_test)\n",
    "\n",
    "\n",
    "\n",
    "(x, y, classes) = read_dataset('wifi_db/clean_dataset.txt')\n",
    "\n",
    "seed = 60012\n",
    "rg = default_rng(seed)\n",
    "x_train, x_test, y_train, y_test = split_dataset(x, y, \n",
    "                                                 test_proportion=0.2, \n",
    "                                                 random_generator=rg)\n",
    "print(x_train.shape, y_train.shape)\n",
    "print(x_test.shape, y_test.shape)"
   ]
  },
  {
   "cell_type": "code",
   "execution_count": 25,
   "id": "10f45906",
   "metadata": {},
   "outputs": [
    {
     "data": {
      "text/plain": [
       "392"
      ]
     },
     "execution_count": 25,
     "metadata": {},
     "output_type": "execute_result"
    }
   ],
   "source": [
    "np.count_nonzero(y_train == 4)"
   ]
  },
  {
   "cell_type": "code",
   "execution_count": 31,
   "id": "63a82c0c",
   "metadata": {},
   "outputs": [],
   "source": [
    "# necessary functions to compute data in order to make the decision tree\n",
    "\n",
    "\n",
    "\n",
    "def H(y, labels): \n",
    "    \n",
    "    entropy = 0\n",
    "    \n",
    "    \n",
    "    N = x.shape[0]\n",
    "    \n",
    "    for label in labels:\n",
    "        prob = np.count_nonzero(y == label)/N\n",
    "        if prob == 0:\n",
    "            continue\n",
    "        entropy -= prob*np.log2(prob)\n",
    "    \n",
    "    return entropy\n",
    "\n",
    "H(y_train, classes)\n",
    "\n",
    "def remainder(y_left, y_right, labels):\n",
    "    N = y_left.shape[0] + y_right.shape[0]\n",
    "    \n",
    "    rem = (y_left.shape[0]/N)*H(y_left, labels) + (y_right.shape[0]/N)*H(y_right, labels)\n",
    "    \n",
    "    return rem\n",
    "\n",
    "def gain(y_all, x_left, y_left, x_right, y_right, labels):\n",
    "    return H(x_all, y_all, labels) - remainder(x_left, y_left, x_right, y_right, labels)\n",
    "            \n",
    "    \n",
    "    \n",
    "    "
   ]
  },
  {
   "cell_type": "code",
   "execution_count": 32,
   "id": "d461a748",
   "metadata": {},
   "outputs": [
    {
     "data": {
      "text/plain": [
       "0.0017143071306899849"
      ]
     },
     "execution_count": 32,
     "metadata": {},
     "output_type": "execute_result"
    }
   ],
   "source": [
    "gain(x, y, x_train, y_train, x_test, y_test, classes)"
   ]
  },
  {
   "cell_type": "code",
   "execution_count": null,
   "id": "245992ae",
   "metadata": {},
   "outputs": [],
   "source": []
  }
 ],
 "metadata": {
  "kernelspec": {
   "display_name": "Python 3",
   "language": "python",
   "name": "python3"
  },
  "language_info": {
   "codemirror_mode": {
    "name": "ipython",
    "version": 3
   },
   "file_extension": ".py",
   "mimetype": "text/x-python",
   "name": "python",
   "nbconvert_exporter": "python",
   "pygments_lexer": "ipython3",
   "version": "3.8.10"
  }
 },
 "nbformat": 4,
 "nbformat_minor": 5
}
